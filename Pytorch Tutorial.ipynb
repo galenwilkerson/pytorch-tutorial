{
 "cells": [
  {
   "cell_type": "markdown",
   "id": "b386c38e",
   "metadata": {},
   "source": [
    "# Introduction to PyTorch\n",
    "\n",
    "PyTorch is an open-source machine learning library developed by Facebook's AI Research lab. It provides a flexible and efficient framework for building and training deep learning models. PyTorch is known for its dynamic computation graph, easy-to-use API, and strong support for GPU acceleration. This notebook introduces the major functionalities of PyTorch, providing intuitions and explanations for each feature.\n",
    "\n",
    "## 1. Tensors\n",
    "\n",
    "Tensors are the core data structures in PyTorch, similar to NumPy arrays, but with additional capabilities for GPU acceleration. They are used to store and manipulate data in various dimensions and types.\n",
    "\n",
    "## 2. Autograd\n",
    "\n",
    "Autograd is PyTorch's automatic differentiation library. It allows for the computation of gradients for tensor operations, enabling backpropagation and optimization of neural networks.\n",
    "\n",
    "## 3. NN Module\n",
    "\n",
    "The NN module provides a high-level API for building and training neural networks. It includes a variety of pre-built layers, loss functions, and optimizers, making it easy to construct complex models.\n",
    "\n",
    "## 4. Optim\n",
    "\n",
    "The Optim package contains optimization algorithms like SGD, Adam, and RMSProp. These algorithms are used to update the weights of the model during training, based on the computed gradients.\n",
    "\n",
    "## 5. Data Utilities\n",
    "\n",
    "PyTorch offers efficient tools for loading and processing data. The DataLoader class supports multi-threaded data loading and batching, while datasets and transforms provide easy ways to handle various data formats and augmentations.\n",
    "\n",
    "## 6. CUDA Integration\n",
    "\n",
    "PyTorch seamlessly integrates with CUDA, allowing for efficient computation on NVIDIA GPUs. This enables significant speedups in training and inference for deep learning models.\n",
    "\n",
    "## 7. TorchScript\n",
    "\n",
    "TorchScript is a way to create serializable and optimizable models from PyTorch code. It allows for the conversion of models into a form that can be run in production environments with improved performance.\n",
    "\n",
    "## 8. Distributed Training\n",
    "\n",
    "PyTorch supports distributed training, enabling the training of large models on multiple GPUs and across multiple nodes. This can be achieved using techniques like data parallelism and model parallelism.\n",
    "\n",
    "## 9. JIT Compilation\n",
    "\n",
    "Just-In-Time (JIT) compilation in PyTorch helps optimize the performance of models and functions. JIT allows for the conversion of Python functions into a more efficient intermediate representation.\n",
    "\n",
    "## 10. Interoperability\n",
    "\n",
    "PyTorch models can be exported to ONNX (Open Neural Network Exchange) format, allowing for interoperability with other frameworks and deployment environments. This enables seamless model transfer and usage across different platforms.\n",
    "\n",
    "## 11. Pre-trained Models\n",
    "\n",
    "PyTorch provides access to a wide range of pre-trained models through libraries like torchvision, torchtext, and torchaudio. These models can be used for various tasks, such as image classification, object detection, and natural language processing.\n",
    "\n",
    "## 12. Visualization\n",
    "\n",
    "Visualization tools in PyTorch, such as integration with TensorBoard, allow for monitoring and debugging of training processes. This helps in understanding model performance and identifying issues during training.\n",
    "\n",
    "## 13. Dataloader Utilities\n",
    "\n",
    "The DataLoader class in PyTorch supports efficient multi-threaded data loading, batching, and shuffling. This ensures that data is fed to the model efficiently, improving training speed and performance.\n",
    "\n",
    "## 14. Dynamic Computation Graphs\n",
    "\n",
    "PyTorch's dynamic computation graph, also known as define-by-run, allows for the graph to be constructed on-the-fly during each iteration. This provides greater flexibility compared to static computation graphs.\n",
    "\n",
    "## 15. Hub\n",
    "\n",
    "PyTorch Hub is a repository of pre-trained models and scripts, enabling easy access to state-of-the-art models for various tasks. Users can quickly load and use these models for inference and fine-tuning.\n",
    "\n",
    "## 16. Mobile Support\n",
    "\n",
    "PyTorch Mobile provides tools and libraries for deploying models on mobile devices. This enables the development of machine learning applications that run efficiently on smartphones and other mobile platforms.\n",
    "\n",
    "## 17. ONNX Runtime\n",
    "\n",
    "Integration with ONNX Runtime allows for faster inference of PyTorch models. ONNX Runtime provides a highly optimized execution engine for running models in the ONNX format.\n",
    "\n",
    "## 18. Custom C++/CUDA Extensions\n",
    "\n",
    "PyTorch supports the development of custom C++ and CUDA extensions for more optimized performance. This allows users to write custom operations and integrate them seamlessly into their PyTorch workflows.\n"
   ]
  },
  {
   "cell_type": "markdown",
   "id": "bd708b26",
   "metadata": {
    "scrolled": false
   },
   "source": [
    "## Import necessary libraries"
   ]
  },
  {
   "cell_type": "code",
   "execution_count": 5,
   "id": "5dd9283e",
   "metadata": {},
   "outputs": [],
   "source": [
    "import torch\n",
    "import torch.nn as nn\n",
    "import torch.optim as optim\n",
    "from torch.utils.data import DataLoader, TensorDataset\n",
    "from torchvision import datasets, transforms\n",
    "import matplotlib.pyplot as plt\n",
    "import numpy as np"
   ]
  },
  {
   "cell_type": "markdown",
   "id": "0a2fb732",
   "metadata": {
    "scrolled": false
   },
   "source": [
    "## 1. Tensors"
   ]
  },
  {
   "cell_type": "code",
   "execution_count": 6,
   "id": "b2068c24",
   "metadata": {},
   "outputs": [
    {
     "name": "stdout",
     "output_type": "stream",
     "text": [
      "1. Tensors\n",
      "Tensor:\n",
      " tensor([[1, 2],\n",
      "        [3, 4]])\n"
     ]
    }
   ],
   "source": [
    "print(\"1. Tensors\")\n",
    "## Create a simple tensor\n",
    "tensor = torch.tensor([[1, 2], [3, 4]])\n",
    "print(\"Tensor:\\n\", tensor)"
   ]
  },
  {
   "cell_type": "markdown",
   "id": "a065c054",
   "metadata": {
    "scrolled": false
   },
   "source": [
    "## 2. Autograd"
   ]
  },
  {
   "cell_type": "code",
   "execution_count": 7,
   "id": "e485fed4",
   "metadata": {},
   "outputs": [
    {
     "name": "stdout",
     "output_type": "stream",
     "text": [
      "\n",
      "2. Autograd\n",
      "Gradient of x: tensor(2.)\n",
      "Gradient of y: tensor(2.)\n"
     ]
    }
   ],
   "source": [
    "print(\"\\n2. Autograd\")\n",
    "## Create tensors and enable gradient computation\n",
    "x = torch.tensor(1.0, requires_grad=True)\n",
    "y = torch.tensor(2.0, requires_grad=True)\n",
    "z = x * y + y\n",
    "z.backward()\n",
    "print(\"Gradient of x:\", x.grad)\n",
    "print(\"Gradient of y:\", y.grad)"
   ]
  },
  {
   "cell_type": "markdown",
   "id": "f1c6eda4",
   "metadata": {
    "scrolled": false
   },
   "source": [
    "## 3. NN Module"
   ]
  },
  {
   "cell_type": "code",
   "execution_count": 8,
   "id": "0c3d3e4c",
   "metadata": {},
   "outputs": [
    {
     "name": "stdout",
     "output_type": "stream",
     "text": [
      "\n",
      "3. NN Module\n",
      "Neural Network Model:\n",
      " SimpleNN(\n",
      "  (fc1): Linear(in_features=2, out_features=2, bias=True)\n",
      "  (fc2): Linear(in_features=2, out_features=1, bias=True)\n",
      ")\n"
     ]
    }
   ],
   "source": [
    "print(\"\\n3. NN Module\")\n",
    "## Define a simple neural network\n",
    "class SimpleNN(nn.Module):\n",
    "    def __init__(self):\n",
    "        super(SimpleNN, self).__init__()\n",
    "        self.fc1 = nn.Linear(2, 2)\n",
    "        self.fc2 = nn.Linear(2, 1)\n",
    "\n",
    "    def forward(self, x):\n",
    "        x = torch.relu(self.fc1(x))\n",
    "        x = torch.sigmoid(self.fc2(x))\n",
    "        return x\n",
    "\n",
    "model = SimpleNN()\n",
    "print(\"Neural Network Model:\\n\", model)"
   ]
  },
  {
   "cell_type": "markdown",
   "id": "ba8f1dc4",
   "metadata": {
    "scrolled": false
   },
   "source": [
    "## 4. Optim"
   ]
  },
  {
   "cell_type": "code",
   "execution_count": 9,
   "id": "601fc0cf",
   "metadata": {},
   "outputs": [
    {
     "name": "stdout",
     "output_type": "stream",
     "text": [
      "\n",
      "4. Optim\n",
      "Optimizer:\n",
      " SGD (\n",
      "Parameter Group 0\n",
      "    dampening: 0\n",
      "    differentiable: False\n",
      "    foreach: None\n",
      "    fused: None\n",
      "    lr: 0.01\n",
      "    maximize: False\n",
      "    momentum: 0\n",
      "    nesterov: False\n",
      "    weight_decay: 0\n",
      ")\n"
     ]
    }
   ],
   "source": [
    "print(\"\\n4. Optim\")\n",
    "## Define an optimizer\n",
    "optimizer = optim.SGD(model.parameters(), lr=0.01)\n",
    "print(\"Optimizer:\\n\", optimizer)"
   ]
  },
  {
   "cell_type": "markdown",
   "id": "301ea0e8",
   "metadata": {
    "scrolled": false
   },
   "source": [
    "## 5. Data Utilities"
   ]
  },
  {
   "cell_type": "code",
   "execution_count": 10,
   "id": "52f28e66",
   "metadata": {},
   "outputs": [
    {
     "name": "stdout",
     "output_type": "stream",
     "text": [
      "\n",
      "5. Data Utilities\n",
      "Batch data:\n",
      " tensor([[3., 4.],\n",
      "        [1., 2.]])\n",
      "Batch labels:\n",
      " tensor([[1.],\n",
      "        [0.]])\n",
      "Batch data:\n",
      " tensor([[5., 6.]])\n",
      "Batch labels:\n",
      " tensor([[0.]])\n"
     ]
    }
   ],
   "source": [
    "print(\"\\n5. Data Utilities\")\n",
    "## Create a simple dataset and dataloader\n",
    "data = torch.tensor([[1.0, 2.0], [3.0, 4.0], [5.0, 6.0]])\n",
    "labels = torch.tensor([[0.0], [1.0], [0.0]])\n",
    "dataset = TensorDataset(data, labels)\n",
    "dataloader = DataLoader(dataset, batch_size=2, shuffle=True)\n",
    "\n",
    "for batch_data, batch_labels in dataloader:\n",
    "    print(\"Batch data:\\n\", batch_data)\n",
    "    print(\"Batch labels:\\n\", batch_labels)"
   ]
  },
  {
   "cell_type": "markdown",
   "id": "d676187f",
   "metadata": {
    "scrolled": false
   },
   "source": [
    "## 6. CUDA Integration"
   ]
  },
  {
   "cell_type": "code",
   "execution_count": 11,
   "id": "f54389fa",
   "metadata": {},
   "outputs": [
    {
     "name": "stdout",
     "output_type": "stream",
     "text": [
      "\n",
      "6. CUDA Integration\n"
     ]
    }
   ],
   "source": [
    "print(\"\\n6. CUDA Integration\")\n",
    "## Check if CUDA is available and move a tensor to GPU\n",
    "if torch.cuda.is_available():\n",
    "    tensor = tensor.to('cuda')\n",
    "    print(\"Tensor on GPU:\\n\", tensor)"
   ]
  },
  {
   "cell_type": "markdown",
   "id": "84856fdb",
   "metadata": {
    "scrolled": false
   },
   "source": [
    "## 7. TorchScript"
   ]
  },
  {
   "cell_type": "code",
   "execution_count": 12,
   "id": "e384c16d",
   "metadata": {},
   "outputs": [
    {
     "name": "stdout",
     "output_type": "stream",
     "text": [
      "\n",
      "7. TorchScript\n",
      "Scripted Model:\n",
      " RecursiveScriptModule(\n",
      "  original_name=SimpleNN\n",
      "  (fc1): RecursiveScriptModule(original_name=Linear)\n",
      "  (fc2): RecursiveScriptModule(original_name=Linear)\n",
      ")\n"
     ]
    }
   ],
   "source": [
    "print(\"\\n7. TorchScript\")\n",
    "## Convert the model to TorchScript\n",
    "scripted_model = torch.jit.script(model)\n",
    "print(\"Scripted Model:\\n\", scripted_model)"
   ]
  },
  {
   "cell_type": "markdown",
   "id": "6e4db075",
   "metadata": {
    "scrolled": false
   },
   "source": [
    "## 8. Distributed Training"
   ]
  },
  {
   "cell_type": "code",
   "execution_count": 13,
   "id": "338c8b35",
   "metadata": {},
   "outputs": [
    {
     "name": "stdout",
     "output_type": "stream",
     "text": [
      "\n",
      "8. Distributed Training\n",
      "DataParallel Model:\n",
      " DataParallel(\n",
      "  (module): SimpleNN(\n",
      "    (fc1): Linear(in_features=2, out_features=2, bias=True)\n",
      "    (fc2): Linear(in_features=2, out_features=1, bias=True)\n",
      "  )\n",
      ")\n"
     ]
    }
   ],
   "source": [
    "print(\"\\n8. Distributed Training\")\n",
    "## This demo is simplified; actual distributed training requires more setup\n",
    "from torch.nn.parallel import DataParallel\n",
    "\n",
    "model = DataParallel(model)\n",
    "print(\"DataParallel Model:\\n\", model)"
   ]
  },
  {
   "cell_type": "markdown",
   "id": "2c2ff437",
   "metadata": {
    "scrolled": false
   },
   "source": [
    "## 9. JIT Compilation"
   ]
  },
  {
   "cell_type": "code",
   "execution_count": 14,
   "id": "69a17c80",
   "metadata": {},
   "outputs": [
    {
     "name": "stdout",
     "output_type": "stream",
     "text": [
      "\n",
      "9. JIT Compilation\n",
      "JIT Compiled Function Result:\n",
      " tensor(3)\n"
     ]
    }
   ],
   "source": [
    "print(\"\\n9. JIT Compilation\")\n",
    "## Using JIT to optimize performance\n",
    "@torch.jit.script\n",
    "def add(a, b):\n",
    "    return a + b\n",
    "\n",
    "print(\"JIT Compiled Function Result:\\n\", add(torch.tensor(1), torch.tensor(2)))"
   ]
  },
  {
   "cell_type": "markdown",
   "id": "987f099d",
   "metadata": {
    "scrolled": false
   },
   "source": [
    "## 10. Interoperability"
   ]
  },
  {
   "cell_type": "code",
   "execution_count": 15,
   "id": "09f5364e",
   "metadata": {},
   "outputs": [
    {
     "name": "stdout",
     "output_type": "stream",
     "text": [
      "\n",
      "10. Interoperability\n",
      "Model exported to ONNX format.\n"
     ]
    }
   ],
   "source": [
    "print(\"\\n10. Interoperability\")\n",
    "## Exporting model to ONNX\n",
    "dummy_input = torch.randn(1, 2)\n",
    "torch.onnx.export(model.module, dummy_input, \"simple_nn.onnx\")  ## Unwrap DataParallel model\n",
    "print(\"Model exported to ONNX format.\")"
   ]
  },
  {
   "cell_type": "markdown",
   "id": "23f8c549",
   "metadata": {
    "scrolled": false
   },
   "source": [
    "## 11. Pre-trained Models"
   ]
  },
  {
   "cell_type": "code",
   "execution_count": 16,
   "id": "cd0557f4",
   "metadata": {},
   "outputs": [
    {
     "name": "stdout",
     "output_type": "stream",
     "text": [
      "\n",
      "11. Pre-trained Models\n",
      "Pre-trained ResNet Model:\n",
      " ResNet(\n",
      "  (conv1): Conv2d(3, 64, kernel_size=(7, 7), stride=(2, 2), padding=(3, 3), bias=False)\n",
      "  (bn1): BatchNorm2d(64, eps=1e-05, momentum=0.1, affine=True, track_running_stats=True)\n",
      "  (relu): ReLU(inplace=True)\n",
      "  (maxpool): MaxPool2d(kernel_size=3, stride=2, padding=1, dilation=1, ceil_mode=False)\n",
      "  (layer1): Sequential(\n",
      "    (0): BasicBlock(\n",
      "      (conv1): Conv2d(64, 64, kernel_size=(3, 3), stride=(1, 1), padding=(1, 1), bias=False)\n",
      "      (bn1): BatchNorm2d(64, eps=1e-05, momentum=0.1, affine=True, track_running_stats=True)\n",
      "      (relu): ReLU(inplace=True)\n",
      "      (conv2): Conv2d(64, 64, kernel_size=(3, 3), stride=(1, 1), padding=(1, 1), bias=False)\n",
      "      (bn2): BatchNorm2d(64, eps=1e-05, momentum=0.1, affine=True, track_running_stats=True)\n",
      "    )\n",
      "    (1): BasicBlock(\n",
      "      (conv1): Conv2d(64, 64, kernel_size=(3, 3), stride=(1, 1), padding=(1, 1), bias=False)\n",
      "      (bn1): BatchNorm2d(64, eps=1e-05, momentum=0.1, affine=True, track_running_stats=True)\n",
      "      (relu): ReLU(inplace=True)\n",
      "      (conv2): Conv2d(64, 64, kernel_size=(3, 3), stride=(1, 1), padding=(1, 1), bias=False)\n",
      "      (bn2): BatchNorm2d(64, eps=1e-05, momentum=0.1, affine=True, track_running_stats=True)\n",
      "    )\n",
      "  )\n",
      "  (layer2): Sequential(\n",
      "    (0): BasicBlock(\n",
      "      (conv1): Conv2d(64, 128, kernel_size=(3, 3), stride=(2, 2), padding=(1, 1), bias=False)\n",
      "      (bn1): BatchNorm2d(128, eps=1e-05, momentum=0.1, affine=True, track_running_stats=True)\n",
      "      (relu): ReLU(inplace=True)\n",
      "      (conv2): Conv2d(128, 128, kernel_size=(3, 3), stride=(1, 1), padding=(1, 1), bias=False)\n",
      "      (bn2): BatchNorm2d(128, eps=1e-05, momentum=0.1, affine=True, track_running_stats=True)\n",
      "      (downsample): Sequential(\n",
      "        (0): Conv2d(64, 128, kernel_size=(1, 1), stride=(2, 2), bias=False)\n",
      "        (1): BatchNorm2d(128, eps=1e-05, momentum=0.1, affine=True, track_running_stats=True)\n",
      "      )\n",
      "    )\n",
      "    (1): BasicBlock(\n",
      "      (conv1): Conv2d(128, 128, kernel_size=(3, 3), stride=(1, 1), padding=(1, 1), bias=False)\n",
      "      (bn1): BatchNorm2d(128, eps=1e-05, momentum=0.1, affine=True, track_running_stats=True)\n",
      "      (relu): ReLU(inplace=True)\n",
      "      (conv2): Conv2d(128, 128, kernel_size=(3, 3), stride=(1, 1), padding=(1, 1), bias=False)\n",
      "      (bn2): BatchNorm2d(128, eps=1e-05, momentum=0.1, affine=True, track_running_stats=True)\n",
      "    )\n",
      "  )\n",
      "  (layer3): Sequential(\n",
      "    (0): BasicBlock(\n",
      "      (conv1): Conv2d(128, 256, kernel_size=(3, 3), stride=(2, 2), padding=(1, 1), bias=False)\n",
      "      (bn1): BatchNorm2d(256, eps=1e-05, momentum=0.1, affine=True, track_running_stats=True)\n",
      "      (relu): ReLU(inplace=True)\n",
      "      (conv2): Conv2d(256, 256, kernel_size=(3, 3), stride=(1, 1), padding=(1, 1), bias=False)\n",
      "      (bn2): BatchNorm2d(256, eps=1e-05, momentum=0.1, affine=True, track_running_stats=True)\n",
      "      (downsample): Sequential(\n",
      "        (0): Conv2d(128, 256, kernel_size=(1, 1), stride=(2, 2), bias=False)\n",
      "        (1): BatchNorm2d(256, eps=1e-05, momentum=0.1, affine=True, track_running_stats=True)\n",
      "      )\n",
      "    )\n",
      "    (1): BasicBlock(\n",
      "      (conv1): Conv2d(256, 256, kernel_size=(3, 3), stride=(1, 1), padding=(1, 1), bias=False)\n",
      "      (bn1): BatchNorm2d(256, eps=1e-05, momentum=0.1, affine=True, track_running_stats=True)\n",
      "      (relu): ReLU(inplace=True)\n",
      "      (conv2): Conv2d(256, 256, kernel_size=(3, 3), stride=(1, 1), padding=(1, 1), bias=False)\n",
      "      (bn2): BatchNorm2d(256, eps=1e-05, momentum=0.1, affine=True, track_running_stats=True)\n",
      "    )\n",
      "  )\n",
      "  (layer4): Sequential(\n",
      "    (0): BasicBlock(\n",
      "      (conv1): Conv2d(256, 512, kernel_size=(3, 3), stride=(2, 2), padding=(1, 1), bias=False)\n",
      "      (bn1): BatchNorm2d(512, eps=1e-05, momentum=0.1, affine=True, track_running_stats=True)\n",
      "      (relu): ReLU(inplace=True)\n",
      "      (conv2): Conv2d(512, 512, kernel_size=(3, 3), stride=(1, 1), padding=(1, 1), bias=False)\n",
      "      (bn2): BatchNorm2d(512, eps=1e-05, momentum=0.1, affine=True, track_running_stats=True)\n",
      "      (downsample): Sequential(\n",
      "        (0): Conv2d(256, 512, kernel_size=(1, 1), stride=(2, 2), bias=False)\n",
      "        (1): BatchNorm2d(512, eps=1e-05, momentum=0.1, affine=True, track_running_stats=True)\n",
      "      )\n",
      "    )\n",
      "    (1): BasicBlock(\n",
      "      (conv1): Conv2d(512, 512, kernel_size=(3, 3), stride=(1, 1), padding=(1, 1), bias=False)\n",
      "      (bn1): BatchNorm2d(512, eps=1e-05, momentum=0.1, affine=True, track_running_stats=True)\n",
      "      (relu): ReLU(inplace=True)\n",
      "      (conv2): Conv2d(512, 512, kernel_size=(3, 3), stride=(1, 1), padding=(1, 1), bias=False)\n",
      "      (bn2): BatchNorm2d(512, eps=1e-05, momentum=0.1, affine=True, track_running_stats=True)\n",
      "    )\n",
      "  )\n",
      "  (avgpool): AdaptiveAvgPool2d(output_size=(1, 1))\n",
      "  (fc): Linear(in_features=512, out_features=1000, bias=True)\n",
      ")\n"
     ]
    }
   ],
   "source": [
    "print(\"\\n11. Pre-trained Models\")\n",
    "from torchvision import models\n",
    "\n",
    "## Load a pre-trained ResNet model\n",
    "resnet = models.resnet18(pretrained=True)\n",
    "print(\"Pre-trained ResNet Model:\\n\", resnet)"
   ]
  },
  {
   "cell_type": "markdown",
   "id": "c488ba24",
   "metadata": {
    "scrolled": false
   },
   "source": [
    "## 12. Visualization"
   ]
  },
  {
   "cell_type": "code",
   "execution_count": 17,
   "id": "14112eeb",
   "metadata": {},
   "outputs": [
    {
     "name": "stdout",
     "output_type": "stream",
     "text": [
      "\n",
      "12. Visualization\n"
     ]
    },
    {
     "data": {
      "image/png": "[encoded data removed]",
      "text/plain": [
       "<Figure size 640x480 with 1 Axes>"
      ]
     },
     "metadata": {},
     "output_type": "display_data"
    }
   ],
   "source": [
    "print(\"\\n12. Visualization\")\n",
    "## Simple training visualization using matplotlib\n",
    "epochs = 10\n",
    "losses = []\n",
    "\n",
    "## Dummy training loop\n",
    "for epoch in range(epochs):\n",
    "    ## Assuming loss decreases over epochs\n",
    "    losses.append(10 / (epoch + 1))\n",
    "\n",
    "plt.plot(range(epochs), losses)\n",
    "plt.xlabel('Epoch')\n",
    "plt.ylabel('Loss')\n",
    "plt.title('Training Loss Over Epochs')\n",
    "plt.show()"
   ]
  },
  {
   "cell_type": "markdown",
   "id": "8d427b29",
   "metadata": {
    "scrolled": false
   },
   "source": [
    "## 13. Dataloader Utilities"
   ]
  },
  {
   "cell_type": "code",
   "execution_count": 18,
   "id": "3b8035f8",
   "metadata": {},
   "outputs": [
    {
     "name": "stdout",
     "output_type": "stream",
     "text": [
      "\n",
      "13. Dataloader Utilities\n"
     ]
    }
   ],
   "source": [
    "print(\"\\n13. Dataloader Utilities\")\n",
    "## Multi-threaded data loading example\n",
    "transform = transforms.Compose([transforms.ToTensor(), transforms.Normalize((0.5,), (0.5,))])\n",
    "mnist_dataset = datasets.MNIST(root='./data', train=True, download=True, transform=transform)\n",
    "mnist_loader = DataLoader(mnist_dataset, batch_size=32, shuffle=True, num_workers=4)"
   ]
  },
  {
   "cell_type": "markdown",
   "id": "f036e4cf",
   "metadata": {
    "scrolled": false
   },
   "source": [
    "## 14. Dynamic Computation Graphs"
   ]
  },
  {
   "cell_type": "code",
   "execution_count": 19,
   "id": "29011a13",
   "metadata": {},
   "outputs": [
    {
     "name": "stdout",
     "output_type": "stream",
     "text": [
      "\n",
      "14. Dynamic Computation Graphs\n",
      "Gradients:\n",
      " tensor([-0.4519, -0.1340, -0.6720]) tensor([0.4562, 0.7674, 0.6976])\n",
      "Gradients:\n",
      " tensor([-0.9038, -0.2680, -1.3439]) tensor([0.9123, 1.5348, 1.3951])\n",
      "Gradients:\n",
      " tensor([-1.3557, -0.4021, -2.0159]) tensor([1.3685, 2.3022, 2.0927])\n"
     ]
    }
   ],
   "source": [
    "print(\"\\n14. Dynamic Computation Graphs\")\n",
    "## Example of dynamic graph modification\n",
    "x = torch.randn(3, requires_grad=True)\n",
    "y = torch.randn(3, requires_grad=True)\n",
    "for _ in range(3):\n",
    "    z = x * y\n",
    "    z.sum().backward(retain_graph=True)\n",
    "    print(\"Gradients:\\n\", x.grad, y.grad)"
   ]
  },
  {
   "cell_type": "markdown",
   "id": "40ec7576",
   "metadata": {
    "scrolled": false
   },
   "source": [
    "## 15. Hub"
   ]
  },
  {
   "cell_type": "code",
   "execution_count": 20,
   "id": "cc8d152e",
   "metadata": {},
   "outputs": [
    {
     "name": "stdout",
     "output_type": "stream",
     "text": [
      "\n",
      "15. Hub\n"
     ]
    },
    {
     "name": "stderr",
     "output_type": "stream",
     "text": [
      "Using cache found in /home/galen/.cache/torch/hub/pytorch_vision_v0.10.0\n"
     ]
    },
    {
     "name": "stdout",
     "output_type": "stream",
     "text": [
      "Model from PyTorch Hub:\n",
      " ResNet(\n",
      "  (conv1): Conv2d(3, 64, kernel_size=(7, 7), stride=(2, 2), padding=(3, 3), bias=False)\n",
      "  (bn1): BatchNorm2d(64, eps=1e-05, momentum=0.1, affine=True, track_running_stats=True)\n",
      "  (relu): ReLU(inplace=True)\n",
      "  (maxpool): MaxPool2d(kernel_size=3, stride=2, padding=1, dilation=1, ceil_mode=False)\n",
      "  (layer1): Sequential(\n",
      "    (0): BasicBlock(\n",
      "      (conv1): Conv2d(64, 64, kernel_size=(3, 3), stride=(1, 1), padding=(1, 1), bias=False)\n",
      "      (bn1): BatchNorm2d(64, eps=1e-05, momentum=0.1, affine=True, track_running_stats=True)\n",
      "      (relu): ReLU(inplace=True)\n",
      "      (conv2): Conv2d(64, 64, kernel_size=(3, 3), stride=(1, 1), padding=(1, 1), bias=False)\n",
      "      (bn2): BatchNorm2d(64, eps=1e-05, momentum=0.1, affine=True, track_running_stats=True)\n",
      "    )\n",
      "    (1): BasicBlock(\n",
      "      (conv1): Conv2d(64, 64, kernel_size=(3, 3), stride=(1, 1), padding=(1, 1), bias=False)\n",
      "      (bn1): BatchNorm2d(64, eps=1e-05, momentum=0.1, affine=True, track_running_stats=True)\n",
      "      (relu): ReLU(inplace=True)\n",
      "      (conv2): Conv2d(64, 64, kernel_size=(3, 3), stride=(1, 1), padding=(1, 1), bias=False)\n",
      "      (bn2): BatchNorm2d(64, eps=1e-05, momentum=0.1, affine=True, track_running_stats=True)\n",
      "    )\n",
      "  )\n",
      "  (layer2): Sequential(\n",
      "    (0): BasicBlock(\n",
      "      (conv1): Conv2d(64, 128, kernel_size=(3, 3), stride=(2, 2), padding=(1, 1), bias=False)\n",
      "      (bn1): BatchNorm2d(128, eps=1e-05, momentum=0.1, affine=True, track_running_stats=True)\n",
      "      (relu): ReLU(inplace=True)\n",
      "      (conv2): Conv2d(128, 128, kernel_size=(3, 3), stride=(1, 1), padding=(1, 1), bias=False)\n",
      "      (bn2): BatchNorm2d(128, eps=1e-05, momentum=0.1, affine=True, track_running_stats=True)\n",
      "      (downsample): Sequential(\n",
      "        (0): Conv2d(64, 128, kernel_size=(1, 1), stride=(2, 2), bias=False)\n",
      "        (1): BatchNorm2d(128, eps=1e-05, momentum=0.1, affine=True, track_running_stats=True)\n",
      "      )\n",
      "    )\n",
      "    (1): BasicBlock(\n",
      "      (conv1): Conv2d(128, 128, kernel_size=(3, 3), stride=(1, 1), padding=(1, 1), bias=False)\n",
      "      (bn1): BatchNorm2d(128, eps=1e-05, momentum=0.1, affine=True, track_running_stats=True)\n",
      "      (relu): ReLU(inplace=True)\n",
      "      (conv2): Conv2d(128, 128, kernel_size=(3, 3), stride=(1, 1), padding=(1, 1), bias=False)\n",
      "      (bn2): BatchNorm2d(128, eps=1e-05, momentum=0.1, affine=True, track_running_stats=True)\n",
      "    )\n",
      "  )\n",
      "  (layer3): Sequential(\n",
      "    (0): BasicBlock(\n",
      "      (conv1): Conv2d(128, 256, kernel_size=(3, 3), stride=(2, 2), padding=(1, 1), bias=False)\n",
      "      (bn1): BatchNorm2d(256, eps=1e-05, momentum=0.1, affine=True, track_running_stats=True)\n",
      "      (relu): ReLU(inplace=True)\n",
      "      (conv2): Conv2d(256, 256, kernel_size=(3, 3), stride=(1, 1), padding=(1, 1), bias=False)\n",
      "      (bn2): BatchNorm2d(256, eps=1e-05, momentum=0.1, affine=True, track_running_stats=True)\n",
      "      (downsample): Sequential(\n",
      "        (0): Conv2d(128, 256, kernel_size=(1, 1), stride=(2, 2), bias=False)\n",
      "        (1): BatchNorm2d(256, eps=1e-05, momentum=0.1, affine=True, track_running_stats=True)\n",
      "      )\n",
      "    )\n",
      "    (1): BasicBlock(\n",
      "      (conv1): Conv2d(256, 256, kernel_size=(3, 3), stride=(1, 1), padding=(1, 1), bias=False)\n",
      "      (bn1): BatchNorm2d(256, eps=1e-05, momentum=0.1, affine=True, track_running_stats=True)\n",
      "      (relu): ReLU(inplace=True)\n",
      "      (conv2): Conv2d(256, 256, kernel_size=(3, 3), stride=(1, 1), padding=(1, 1), bias=False)\n",
      "      (bn2): BatchNorm2d(256, eps=1e-05, momentum=0.1, affine=True, track_running_stats=True)\n",
      "    )\n",
      "  )\n",
      "  (layer4): Sequential(\n",
      "    (0): BasicBlock(\n",
      "      (conv1): Conv2d(256, 512, kernel_size=(3, 3), stride=(2, 2), padding=(1, 1), bias=False)\n",
      "      (bn1): BatchNorm2d(512, eps=1e-05, momentum=0.1, affine=True, track_running_stats=True)\n",
      "      (relu): ReLU(inplace=True)\n",
      "      (conv2): Conv2d(512, 512, kernel_size=(3, 3), stride=(1, 1), padding=(1, 1), bias=False)\n",
      "      (bn2): BatchNorm2d(512, eps=1e-05, momentum=0.1, affine=True, track_running_stats=True)\n",
      "      (downsample): Sequential(\n",
      "        (0): Conv2d(256, 512, kernel_size=(1, 1), stride=(2, 2), bias=False)\n",
      "        (1): BatchNorm2d(512, eps=1e-05, momentum=0.1, affine=True, track_running_stats=True)\n",
      "      )\n",
      "    )\n",
      "    (1): BasicBlock(\n",
      "      (conv1): Conv2d(512, 512, kernel_size=(3, 3), stride=(1, 1), padding=(1, 1), bias=False)\n",
      "      (bn1): BatchNorm2d(512, eps=1e-05, momentum=0.1, affine=True, track_running_stats=True)\n",
      "      (relu): ReLU(inplace=True)\n",
      "      (conv2): Conv2d(512, 512, kernel_size=(3, 3), stride=(1, 1), padding=(1, 1), bias=False)\n",
      "      (bn2): BatchNorm2d(512, eps=1e-05, momentum=0.1, affine=True, track_running_stats=True)\n",
      "    )\n",
      "  )\n",
      "  (avgpool): AdaptiveAvgPool2d(output_size=(1, 1))\n",
      "  (fc): Linear(in_features=512, out_features=1000, bias=True)\n",
      ")\n"
     ]
    }
   ],
   "source": [
    "print(\"\\n15. Hub\")\n",
    "## Load a model from PyTorch Hub\n",
    "hub_model = torch.hub.load('pytorch/vision:v0.10.0', 'resnet18', pretrained=True)\n",
    "print(\"Model from PyTorch Hub:\\n\", hub_model)"
   ]
  },
  {
   "cell_type": "markdown",
   "id": "63779986",
   "metadata": {
    "scrolled": false
   },
   "source": [
    "## 16. Mobile Support"
   ]
  },
  {
   "cell_type": "code",
   "execution_count": 21,
   "id": "e808b301",
   "metadata": {},
   "outputs": [
    {
     "name": "stdout",
     "output_type": "stream",
     "text": [
      "\n",
      "16. Mobile Support\n",
      "Mobile support for PyTorch models enables deployment on mobile devices.\n"
     ]
    }
   ],
   "source": [
    "print(\"\\n16. Mobile Support\")\n",
    "## PyTorch Mobile example (note: actual deployment on mobile requires more setup)\n",
    "print(\"Mobile support for PyTorch models enables deployment on mobile devices.\")"
   ]
  },
  {
   "cell_type": "markdown",
   "id": "e541fc9d",
   "metadata": {
    "scrolled": false
   },
   "source": [
    "## 17. ONNX Runtime"
   ]
  },
  {
   "cell_type": "code",
   "execution_count": 22,
   "id": "bedf2617",
   "metadata": {},
   "outputs": [
    {
     "name": "stdout",
     "output_type": "stream",
     "text": [
      "\n",
      "17. ONNX Runtime\n",
      "ONNX Runtime allows for faster inference.\n"
     ]
    }
   ],
   "source": [
    "print(\"\\n17. ONNX Runtime\")\n",
    "## Integration example (requires onnxruntime package)\n",
    "## import onnxruntime as ort\n",
    "## ort_session = ort.InferenceSession(\"simple_nn.onnx\")\n",
    "## outputs = ort_session.run(None, {'input': dummy_input.numpy()})\n",
    "print(\"ONNX Runtime allows for faster inference.\")"
   ]
  },
  {
   "cell_type": "markdown",
   "id": "9c600922",
   "metadata": {
    "scrolled": false
   },
   "source": [
    "## 18. Custom C++/CUDA Extensions"
   ]
  },
  {
   "cell_type": "code",
   "execution_count": 23,
   "id": "2adeb0ed",
   "metadata": {
    "scrolled": false
   },
   "outputs": [
    {
     "name": "stdout",
     "output_type": "stream",
     "text": [
      "\n",
      "18. Custom C++/CUDA Extensions\n",
      "Custom C++/CUDA extensions can be used for optimized performance.\n"
     ]
    }
   ],
   "source": [
    "print(\"\\n18. Custom C++/CUDA Extensions\")\n",
    "## Example of custom extension (actual implementation requires writing C++/CUDA code)\n",
    "print(\"Custom C++/CUDA extensions can be used for optimized performance.\")"
   ]
  },
  {
   "cell_type": "code",
   "execution_count": null,
   "id": "b3710f08",
   "metadata": {},
   "outputs": [],
   "source": []
  }
 ],
 "metadata": {
  "kernelspec": {
   "display_name": "Python 3 (ipykernel)",
   "language": "python",
   "name": "python3"
  },
  "language_info": {
   "codemirror_mode": {
    "name": "ipython",
    "version": 3
   },
   "file_extension": ".py",
   "mimetype": "text/x-python",
   "name": "python",
   "nbconvert_exporter": "python",
   "pygments_lexer": "ipython3",
   "version": "3.11.5"
  }
 },
 "nbformat": 4,
 "nbformat_minor": 5
}
